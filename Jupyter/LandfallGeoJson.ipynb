{
 "cells": [
  {
   "cell_type": "code",
   "execution_count": 1,
   "metadata": {},
   "outputs": [],
   "source": [
    "import pandas as pd "
   ]
  },
  {
   "cell_type": "code",
   "execution_count": 2,
   "metadata": {},
   "outputs": [
    {
     "data": {
      "text/plain": [
       "ID            object\n",
       "Name          object\n",
       "Year           int64\n",
       "Month          int64\n",
       "Day            int64\n",
       "Status        object\n",
       "Wind_mph       int64\n",
       "Latitude     float64\n",
       "Longitude     object\n",
       "dtype: object"
      ]
     },
     "execution_count": 2,
     "metadata": {},
     "output_type": "execute_result"
    }
   ],
   "source": [
    "# land_fall_df.to_csv(\"landfall.csv\", index=False)\n",
    "landfall_df = pd.read_csv(\"landfall.csv\")\n",
    "landfall_df.dtypes"
   ]
  },
  {
   "cell_type": "code",
   "execution_count": null,
   "metadata": {},
   "outputs": [],
   "source": []
  },
  {
   "cell_type": "code",
   "execution_count": 3,
   "metadata": {},
   "outputs": [
    {
     "data": {
      "text/html": [
       "<div>\n",
       "<style scoped>\n",
       "    .dataframe tbody tr th:only-of-type {\n",
       "        vertical-align: middle;\n",
       "    }\n",
       "\n",
       "    .dataframe tbody tr th {\n",
       "        vertical-align: top;\n",
       "    }\n",
       "\n",
       "    .dataframe thead th {\n",
       "        text-align: right;\n",
       "    }\n",
       "</style>\n",
       "<table border=\"1\" class=\"dataframe\">\n",
       "  <thead>\n",
       "    <tr style=\"text-align: right;\">\n",
       "      <th></th>\n",
       "      <th>ID</th>\n",
       "      <th>Name</th>\n",
       "      <th>Year</th>\n",
       "      <th>Month</th>\n",
       "      <th>Day</th>\n",
       "      <th>Status</th>\n",
       "      <th>Wind_mph</th>\n",
       "      <th>Latitude</th>\n",
       "      <th>Longitude</th>\n",
       "    </tr>\n",
       "  </thead>\n",
       "  <tbody>\n",
       "    <tr>\n",
       "      <th>0</th>\n",
       "      <td>AL011851</td>\n",
       "      <td>UNNAMED</td>\n",
       "      <td>1851</td>\n",
       "      <td>6</td>\n",
       "      <td>25</td>\n",
       "      <td>HU</td>\n",
       "      <td>80</td>\n",
       "      <td>28.2</td>\n",
       "      <td>-96.8</td>\n",
       "    </tr>\n",
       "    <tr>\n",
       "      <th>1</th>\n",
       "      <td>AL041851</td>\n",
       "      <td>UNNAMED</td>\n",
       "      <td>1851</td>\n",
       "      <td>8</td>\n",
       "      <td>23</td>\n",
       "      <td>HU</td>\n",
       "      <td>100</td>\n",
       "      <td>30.1</td>\n",
       "      <td>-85.7</td>\n",
       "    </tr>\n",
       "    <tr>\n",
       "      <th>2</th>\n",
       "      <td>AL061851</td>\n",
       "      <td>UNNAMED</td>\n",
       "      <td>1851</td>\n",
       "      <td>10</td>\n",
       "      <td>19</td>\n",
       "      <td>TS</td>\n",
       "      <td>50</td>\n",
       "      <td>41.1</td>\n",
       "      <td>-71.7</td>\n",
       "    </tr>\n",
       "    <tr>\n",
       "      <th>3</th>\n",
       "      <td>AL011852</td>\n",
       "      <td>UNNAMED</td>\n",
       "      <td>1852</td>\n",
       "      <td>8</td>\n",
       "      <td>26</td>\n",
       "      <td>HU</td>\n",
       "      <td>100</td>\n",
       "      <td>30.2</td>\n",
       "      <td>-88.6</td>\n",
       "    </tr>\n",
       "    <tr>\n",
       "      <th>4</th>\n",
       "      <td>AL031852</td>\n",
       "      <td>UNNAMED</td>\n",
       "      <td>1852</td>\n",
       "      <td>9</td>\n",
       "      <td>12</td>\n",
       "      <td>HU</td>\n",
       "      <td>70</td>\n",
       "      <td>28.0</td>\n",
       "      <td>-82.8</td>\n",
       "    </tr>\n",
       "  </tbody>\n",
       "</table>\n",
       "</div>"
      ],
      "text/plain": [
       "         ID     Name  Year  Month  Day Status  Wind_mph  Latitude  Longitude\n",
       "0  AL011851  UNNAMED  1851      6   25     HU        80      28.2      -96.8\n",
       "1  AL041851  UNNAMED  1851      8   23     HU       100      30.1      -85.7\n",
       "2  AL061851  UNNAMED  1851     10   19     TS        50      41.1      -71.7\n",
       "3  AL011852  UNNAMED  1852      8   26     HU       100      30.2      -88.6\n",
       "4  AL031852  UNNAMED  1852      9   12     HU        70      28.0      -82.8"
      ]
     },
     "execution_count": 3,
     "metadata": {},
     "output_type": "execute_result"
    }
   ],
   "source": [
    "# landfall_df.dtypes\n",
    "# df['DataFrame Column'] = df['DataFrame Column'].astype(int)\n",
    "# landfall_df['Longitude'] = landfall_df['Longitude'].astype(float)\n",
    "landfall_df['Longitude'] = pd.to_numeric(landfall_df['Longitude'],errors='coerce')\n",
    "landfall_df.head()"
   ]
  },
  {
   "cell_type": "code",
   "execution_count": 4,
   "metadata": {},
   "outputs": [
    {
     "data": {
      "text/plain": [
       "962"
      ]
     },
     "execution_count": 4,
     "metadata": {},
     "output_type": "execute_result"
    }
   ],
   "source": [
    "landfall_df.dtypes\n",
    "landfall_df.head()\n",
    "len(landfall_df)"
   ]
  },
  {
   "cell_type": "code",
   "execution_count": 5,
   "metadata": {},
   "outputs": [
    {
     "data": {
      "text/plain": [
       "961"
      ]
     },
     "execution_count": 5,
     "metadata": {},
     "output_type": "execute_result"
    }
   ],
   "source": [
    "landfall_df = landfall_df.dropna()\n",
    "len(landfall_df)"
   ]
  },
  {
   "cell_type": "code",
   "execution_count": 6,
   "metadata": {},
   "outputs": [],
   "source": [
    "def df_to_geojson(landfall_df, properties, lat='Latitude', lon='Longitude'):\n",
    "    geojson = {'type':'FeatureCollection', 'features':[]}\n",
    "    for _, row in landfall_df.iterrows():\n",
    "        feature = {'type':'Feature',\n",
    "                   'properties':{},\n",
    "                   'geometry':{'type':'Point',\n",
    "                               'coordinates':[]}}\n",
    "        feature['geometry']['coordinates'] = [row[lon],row[lat]]\n",
    "        for prop in properties:\n",
    "            feature['properties'][prop] = row[prop]\n",
    "        geojson['features'].append(feature)\n",
    "    return geojson"
   ]
  },
  {
   "cell_type": "code",
   "execution_count": null,
   "metadata": {},
   "outputs": [],
   "source": []
  },
  {
   "cell_type": "code",
   "execution_count": 7,
   "metadata": {},
   "outputs": [],
   "source": [
    "cols = ['ID', 'Name', 'Year','Month','Day','Status','Wind_mph','Latitude','Longitude']\n",
    "geojson = df_to_geojson(landfall_df, cols)"
   ]
  },
  {
   "cell_type": "code",
   "execution_count": 8,
   "metadata": {},
   "outputs": [],
   "source": [
    "output_filename = 'Resources/hurricane.json'\n",
    "with open(output_filename, 'w') as output_file:\n",
    "    output_file.write('var dataset = ')\n",
    "    json.dump(geojson, output_file, indent=2)"
   ]
  },
  {
   "cell_type": "code",
   "execution_count": null,
   "metadata": {},
   "outputs": [],
   "source": []
  },
  {
   "cell_type": "code",
   "execution_count": null,
   "metadata": {},
   "outputs": [],
   "source": []
  }
 ],
 "metadata": {
  "kernelspec": {
   "display_name": "Python 3",
   "language": "python",
   "name": "python3"
  },
  "language_info": {
   "codemirror_mode": {
    "name": "ipython",
    "version": 3
   },
   "file_extension": ".py",
   "mimetype": "text/x-python",
   "name": "python",
   "nbconvert_exporter": "python",
   "pygments_lexer": "ipython3",
   "version": "3.7.6"
  },
  "toc": {
   "base_numbering": 1,
   "nav_menu": {},
   "number_sections": true,
   "sideBar": true,
   "skip_h1_title": false,
   "title_cell": "Table of Contents",
   "title_sidebar": "Contents",
   "toc_cell": false,
   "toc_position": {},
   "toc_section_display": true,
   "toc_window_display": false
  },
  "varInspector": {
   "cols": {
    "lenName": 16,
    "lenType": 16,
    "lenVar": 40
   },
   "kernels_config": {
    "python": {
     "delete_cmd_postfix": "",
     "delete_cmd_prefix": "del ",
     "library": "var_list.py",
     "varRefreshCmd": "print(var_dic_list())"
    },
    "r": {
     "delete_cmd_postfix": ") ",
     "delete_cmd_prefix": "rm(",
     "library": "var_list.r",
     "varRefreshCmd": "cat(var_dic_list()) "
    }
   },
   "types_to_exclude": [
    "module",
    "function",
    "builtin_function_or_method",
    "instance",
    "_Feature"
   ],
   "window_display": false
  }
 },
 "nbformat": 4,
 "nbformat_minor": 4
}
